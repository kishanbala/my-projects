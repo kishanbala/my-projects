{
  "nbformat": 4,
  "nbformat_minor": 0,
  "metadata": {
    "colab": {
      "name": "House_Price.ipynb",
      "provenance": [],
      "collapsed_sections": [
        "KMQyN8L1pfxf",
        "jmsD7Q_xpsp4",
        "kx2d8jdlr9Jn",
        "cQ5jDJRKsEo_"
      ]
    },
    "kernelspec": {
      "name": "python3",
      "display_name": "Python 3"
    },
    "language_info": {
      "name": "python"
    }
  },
  "cells": [
    {
      "cell_type": "markdown",
      "metadata": {
        "id": "KMQyN8L1pfxf"
      },
      "source": [
        "# Import dependencies"
      ]
    },
    {
      "cell_type": "code",
      "metadata": {
        "colab": {
          "base_uri": "https://localhost:8080/",
          "height": 51
        },
        "id": "EzeEO57kOd_W",
        "outputId": "bfd6ec10-7cda-4d99-8122-91efb2c7529d"
      },
      "source": [
        "import pandas as pd\n",
        "import numpy as np\n",
        "import matplotlib.pyplot as plt\n",
        "import seaborn as sns\n",
        "import numpy as np\n",
        "from sklearn.linear_model import LinearRegression\n",
        "from sklearn.ensemble import RandomForestRegressor\n",
        "from sklearn.model_selection import train_test_split\n",
        "from sklearn.metrics import mean_squared_error\n",
        "from sklearn.preprocessing import normalize\n",
        "from sklearn.preprocessing import StandardScaler\n",
        "from sklearn.preprocessing import RobustScaler\n",
        "from scipy.stats import norm\n",
        "import math\n",
        "from google.colab import drive\n",
        "plt.figure(figsize=(55, 15))\n",
        "pd.set_option('display.max_rows', None)\n",
        "pd.set_option('display.max_columns', None)\n",
        "drive.mount('/content/drive')\n",
        "train = pd.read_csv('/content/drive/My Drive/Colab Notebooks/data/train.csv')\n",
        "test = pd.read_csv('/content/drive/My Drive/Colab Notebooks/data/test.csv')"
      ],
      "execution_count": 1,
      "outputs": [
        {
          "output_type": "stream",
          "text": [
            "Mounted at /content/drive\n"
          ],
          "name": "stdout"
        },
        {
          "output_type": "display_data",
          "data": {
            "text/plain": [
              "<Figure size 3960x1080 with 0 Axes>"
            ]
          },
          "metadata": {
            "tags": []
          }
        }
      ]
    },
    {
      "cell_type": "markdown",
      "metadata": {
        "id": "jmsD7Q_xpsp4"
      },
      "source": [
        "# Data Preprocessing"
      ]
    },
    {
      "cell_type": "code",
      "metadata": {
        "id": "V43Rm1ynpWWD",
        "colab": {
          "base_uri": "https://localhost:8080/",
          "height": 367
        },
        "outputId": "33486cfb-5220-4be2-c352-af6087988caf"
      },
      "source": [
        "df = pd.concat([train,test], ignore_index=True)\n",
        "df.drop('Id', axis=1, inplace=True)\n",
        "num_feats = df.dtypes[df.dtypes!='object'].index\n",
        "skew_feats = df[num_feats].skew().sort_values(ascending=False)\n",
        "skewness = pd.DataFrame({'Skew':skew_feats}).reset_index().rename(columns={'index':'feature'})\n",
        "plot = sns.barplot(skewness.feature, skewness.Skew)\n",
        "plt.figure(figsize=(55, 15))"
      ],
      "execution_count": 5,
      "outputs": [
        {
          "output_type": "stream",
          "text": [
            "/usr/local/lib/python3.7/dist-packages/seaborn/_decorators.py:43: FutureWarning: Pass the following variables as keyword args: x, y. From version 0.12, the only valid positional argument will be `data`, and passing other arguments without an explicit keyword will result in an error or misinterpretation.\n",
            "  FutureWarning\n"
          ],
          "name": "stderr"
        },
        {
          "output_type": "execute_result",
          "data": {
            "text/plain": [
              "<Figure size 3960x1080 with 0 Axes>"
            ]
          },
          "metadata": {
            "tags": []
          },
          "execution_count": 5
        },
        {
          "output_type": "display_data",
          "data": {
            "image/png": "[encoded data removed]",
            "text/plain": [
              "<Figure size 432x288 with 1 Axes>"
            ]
          },
          "metadata": {
            "tags": [],
            "needs_background": "light"
          }
        },
        {
          "output_type": "display_data",
          "data": {
            "text/plain": [
              "<Figure size 3960x1080 with 0 Axes>"
            ]
          },
          "metadata": {
            "tags": []
          }
        }
      ]
    },
    {
      "cell_type": "code",
      "metadata": {
        "id": "VanjJg2R36bK"
      },
      "source": [
        "## Log-Normalize all the numerical columns except SalesPrice\n",
        "np.seterr(divide = 'ignore')\n",
        "df[num_feats] = np.log(df[num_feats])\n",
        "df = df.replace([np.inf, -np.inf], np.nan)\n",
        "df[num_feats[:-1]] = df[num_feats[:-1]].fillna(df.mean())"
      ],
      "execution_count": 6,
      "outputs": []
    },
    {
      "cell_type": "code",
      "metadata": {
        "colab": {
          "base_uri": "https://localhost:8080/"
        },
        "id": "a4hVVuBb4gF1",
        "outputId": "9a1710c0-cdc6-4cd5-c167-3733cf160d1e"
      },
      "source": [
        "## Get top features from original dataframe\n",
        "corr_matrix = pd.DataFrame((df.corr()*100).unstack().sort_values(kind='quicksort'), columns=['corr']).reset_index().rename(columns = {'level_0':'col_0', 'level_1':'col_1'})\n",
        "feature_list = corr_matrix[(corr_matrix['col_1']=='SalePrice') & (corr_matrix['corr'].between(50,100))]['col_0'].to_list()\n",
        "# df.drop('KitchenAbvGr', axis=1, inplace=True)\n",
        "# df.loc[df['FullBath']==0, 'FullBath'] = df.FullBath.mean()\n",
        "# df.loc[df['BedroomAbvGr']==0, 'BedroomAbvGr'] = df.BedroomAbvGr.mean()\n",
        "# df.loc[df['MoSold']==0, 'MoSold'] = df.MoSold.mean()\n",
        "# df.loc[df['GarageCars']==0, 'GarageCars'] = df.MoSold.mean()\n",
        "# df.loc[df['OverallQual']==0, 'OverallQual'] = df.OverallQual.mean()\n",
        "# df.loc[df['OverallCond']==0, 'OverallCond'] = df.OverallCond.mean()\n",
        "# df.loc[df['Fireplaces']==0, 'Fireplaces'] = df.Fireplaces.mean()\n",
        "# df.astype(bool).sum(axis=0)\n",
        "train_df = df[feature_list]\n",
        "Y_train = pd.DataFrame(train_df.SalePrice.values, columns=['SalePrice'])\n",
        "Y_train.dropna(inplace=True)\n",
        "Y_train = Y_train.SalePrice.to_list()\n",
        "train_df.drop(columns={'SalePrice'}, inplace=True)\n",
        "test_df = test[feature_list[:-1]]"
      ],
      "execution_count": 9,
      "outputs": [
        {
          "output_type": "stream",
          "text": [
            "/usr/local/lib/python3.7/dist-packages/pandas/core/frame.py:4174: SettingWithCopyWarning: \n",
            "A value is trying to be set on a copy of a slice from a DataFrame\n",
            "\n",
            "See the caveats in the documentation: https://pandas.pydata.org/pandas-docs/stable/user_guide/indexing.html#returning-a-view-versus-a-copy\n",
            "  errors=errors,\n"
          ],
          "name": "stderr"
        }
      ]
    },
    {
      "cell_type": "code",
      "metadata": {
        "colab": {
          "base_uri": "https://localhost:8080/",
          "height": 297
        },
        "id": "Kw_zMAiOnbU8",
        "outputId": "7a18c1f0-80b1-4bd7-d3cc-40c040588a1f"
      },
      "source": [
        "train_df.describe()"
      ],
      "execution_count": 14,
      "outputs": [
        {
          "output_type": "execute_result",
          "data": {
            "text/html": [
              "<div>\n",
              "<style scoped>\n",
              "    .dataframe tbody tr th:only-of-type {\n",
              "        vertical-align: middle;\n",
              "    }\n",
              "\n",
              "    .dataframe tbody tr th {\n",
              "        vertical-align: top;\n",
              "    }\n",
              "\n",
              "    .dataframe thead th {\n",
              "        text-align: right;\n",
              "    }\n",
              "</style>\n",
              "<table border=\"1\" class=\"dataframe\">\n",
              "  <thead>\n",
              "    <tr style=\"text-align: right;\">\n",
              "      <th></th>\n",
              "      <th>GarageYrBlt</th>\n",
              "      <th>TotRmsAbvGrd</th>\n",
              "      <th>GarageArea</th>\n",
              "      <th>YearRemodAdd</th>\n",
              "      <th>YearBuilt</th>\n",
              "      <th>GarageCars</th>\n",
              "      <th>TotalBsmtSF</th>\n",
              "      <th>FullBath</th>\n",
              "      <th>1stFlrSF</th>\n",
              "      <th>GrLivArea</th>\n",
              "      <th>OverallQual</th>\n",
              "    </tr>\n",
              "  </thead>\n",
              "  <tbody>\n",
              "    <tr>\n",
              "      <th>count</th>\n",
              "      <td>2919.000000</td>\n",
              "      <td>2919.000000</td>\n",
              "      <td>2919.000000</td>\n",
              "      <td>2919.000000</td>\n",
              "      <td>2919.000000</td>\n",
              "      <td>2919.000000</td>\n",
              "      <td>2919.000000</td>\n",
              "      <td>2919.000000</td>\n",
              "      <td>2919.000000</td>\n",
              "      <td>2919.000000</td>\n",
              "      <td>2919.000000</td>\n",
              "    </tr>\n",
              "    <tr>\n",
              "      <th>mean</th>\n",
              "      <td>7.589815</td>\n",
              "      <td>1.835455</td>\n",
              "      <td>6.142900</td>\n",
              "      <td>7.592948</td>\n",
              "      <td>7.586336</td>\n",
              "      <td>0.557605</td>\n",
              "      <td>6.916996</td>\n",
              "      <td>0.390909</td>\n",
              "      <td>7.003229</td>\n",
              "      <td>7.260762</td>\n",
              "      <td>1.777670</td>\n",
              "    </tr>\n",
              "    <tr>\n",
              "      <th>std</th>\n",
              "      <td>0.012607</td>\n",
              "      <td>0.240923</td>\n",
              "      <td>0.373048</td>\n",
              "      <td>0.010556</td>\n",
              "      <td>0.015441</td>\n",
              "      <td>0.366579</td>\n",
              "      <td>0.371337</td>\n",
              "      <td>0.358872</td>\n",
              "      <td>0.322956</td>\n",
              "      <td>0.324991</td>\n",
              "      <td>0.248361</td>\n",
              "    </tr>\n",
              "    <tr>\n",
              "      <th>min</th>\n",
              "      <td>7.546974</td>\n",
              "      <td>0.693147</td>\n",
              "      <td>4.605170</td>\n",
              "      <td>7.575585</td>\n",
              "      <td>7.534763</td>\n",
              "      <td>0.000000</td>\n",
              "      <td>4.653960</td>\n",
              "      <td>0.000000</td>\n",
              "      <td>5.811141</td>\n",
              "      <td>5.811141</td>\n",
              "      <td>0.000000</td>\n",
              "    </tr>\n",
              "    <tr>\n",
              "      <th>25%</th>\n",
              "      <td>7.581465</td>\n",
              "      <td>1.609438</td>\n",
              "      <td>5.950643</td>\n",
              "      <td>7.583248</td>\n",
              "      <td>7.577378</td>\n",
              "      <td>0.000000</td>\n",
              "      <td>6.704414</td>\n",
              "      <td>0.000000</td>\n",
              "      <td>6.775366</td>\n",
              "      <td>7.026427</td>\n",
              "      <td>1.609438</td>\n",
              "    </tr>\n",
              "    <tr>\n",
              "      <th>50%</th>\n",
              "      <td>7.589815</td>\n",
              "      <td>1.791759</td>\n",
              "      <td>6.173786</td>\n",
              "      <td>7.597396</td>\n",
              "      <td>7.587311</td>\n",
              "      <td>0.693147</td>\n",
              "      <td>6.916996</td>\n",
              "      <td>0.693147</td>\n",
              "      <td>6.986566</td>\n",
              "      <td>7.275172</td>\n",
              "      <td>1.791759</td>\n",
              "    </tr>\n",
              "    <tr>\n",
              "      <th>75%</th>\n",
              "      <td>7.601402</td>\n",
              "      <td>1.945910</td>\n",
              "      <td>6.356108</td>\n",
              "      <td>7.602900</td>\n",
              "      <td>7.601402</td>\n",
              "      <td>0.693147</td>\n",
              "      <td>7.171657</td>\n",
              "      <td>0.693147</td>\n",
              "      <td>7.235259</td>\n",
              "      <td>7.463650</td>\n",
              "      <td>1.945910</td>\n",
              "    </tr>\n",
              "    <tr>\n",
              "      <th>max</th>\n",
              "      <td>7.699389</td>\n",
              "      <td>2.708050</td>\n",
              "      <td>7.305188</td>\n",
              "      <td>7.605890</td>\n",
              "      <td>7.605890</td>\n",
              "      <td>1.609438</td>\n",
              "      <td>8.717682</td>\n",
              "      <td>1.386294</td>\n",
              "      <td>8.536015</td>\n",
              "      <td>8.637994</td>\n",
              "      <td>2.302585</td>\n",
              "    </tr>\n",
              "  </tbody>\n",
              "</table>\n",
              "</div>"
            ],
            "text/plain": [
              "       GarageYrBlt  TotRmsAbvGrd   GarageArea  YearRemodAdd    YearBuilt  \\\n",
              "count  2919.000000   2919.000000  2919.000000   2919.000000  2919.000000   \n",
              "mean      7.589815      1.835455     6.142900      7.592948     7.586336   \n",
              "std       0.012607      0.240923     0.373048      0.010556     0.015441   \n",
              "min       7.546974      0.693147     4.605170      7.575585     7.534763   \n",
              "25%       7.581465      1.609438     5.950643      7.583248     7.577378   \n",
              "50%       7.589815      1.791759     6.173786      7.597396     7.587311   \n",
              "75%       7.601402      1.945910     6.356108      7.602900     7.601402   \n",
              "max       7.699389      2.708050     7.305188      7.605890     7.605890   \n",
              "\n",
              "        GarageCars  TotalBsmtSF     FullBath     1stFlrSF    GrLivArea  \\\n",
              "count  2919.000000  2919.000000  2919.000000  2919.000000  2919.000000   \n",
              "mean      0.557605     6.916996     0.390909     7.003229     7.260762   \n",
              "std       0.366579     0.371337     0.358872     0.322956     0.324991   \n",
              "min       0.000000     4.653960     0.000000     5.811141     5.811141   \n",
              "25%       0.000000     6.704414     0.000000     6.775366     7.026427   \n",
              "50%       0.693147     6.916996     0.693147     6.986566     7.275172   \n",
              "75%       0.693147     7.171657     0.693147     7.235259     7.463650   \n",
              "max       1.609438     8.717682     1.386294     8.536015     8.637994   \n",
              "\n",
              "       OverallQual  \n",
              "count  2919.000000  \n",
              "mean      1.777670  \n",
              "std       0.248361  \n",
              "min       0.000000  \n",
              "25%       1.609438  \n",
              "50%       1.791759  \n",
              "75%       1.945910  \n",
              "max       2.302585  "
            ]
          },
          "metadata": {
            "tags": []
          },
          "execution_count": 14
        }
      ]
    },
    {
      "cell_type": "code",
      "metadata": {
        "id": "ywHffxKC17Id"
      },
      "source": [
        "X_train = train_df[:1460]\n",
        "X_test = train_df[1460:]"
      ],
      "execution_count": 15,
      "outputs": []
    },
    {
      "cell_type": "markdown",
      "metadata": {
        "id": "kx2d8jdlr9Jn"
      },
      "source": [
        "# Modelling"
      ]
    },
    {
      "cell_type": "code",
      "metadata": {
        "id": "zTYsvWAtMVAx"
      },
      "source": [
        "## Split data into train and test\n",
        "train_x, test_x, train_y, test_y = train_test_split(X_train, Y_train, test_size=0.30, random_state=101)"
      ],
      "execution_count": 25,
      "outputs": []
    },
    {
      "cell_type": "code",
      "metadata": {
        "colab": {
          "base_uri": "https://localhost:8080/"
        },
        "id": "e5epxGs_NvUI",
        "outputId": "f4597643-5c41-42e9-9a1e-38df3cfb4aad"
      },
      "source": [
        "reg = LinearRegression()\n",
        "reg.fit(train_x, train_y)\n",
        "reg.score(train_x, train_y)"
      ],
      "execution_count": 26,
      "outputs": [
        {
          "output_type": "execute_result",
          "data": {
            "text/plain": [
              "0.833369441131738"
            ]
          },
          "metadata": {
            "tags": []
          },
          "execution_count": 26
        }
      ]
    },
    {
      "cell_type": "code",
      "metadata": {
        "colab": {
          "base_uri": "https://localhost:8080/"
        },
        "id": "t2WyY-Wgz6Ls",
        "outputId": "cc9135cd-d38d-4737-c569-78e63e50aa86"
      },
      "source": [
        "y_pred = reg.predict(test_x)\n",
        "print(np.mean((y_pred - test_y)**2))\n",
        "print(mean_squared_error(test_y,y_pred))"
      ],
      "execution_count": 27,
      "outputs": [
        {
          "output_type": "stream",
          "text": [
            "0.032490837143423885\n",
            "0.032490837143423885\n"
          ],
          "name": "stdout"
        }
      ]
    },
    {
      "cell_type": "code",
      "metadata": {
        "colab": {
          "base_uri": "https://localhost:8080/"
        },
        "id": "C53d8dflxb-C",
        "outputId": "dec10e30-eb78-4485-ac47-70ed2092e856"
      },
      "source": [
        "MSE = np.square(np.subtract(test_y,y_pred)).mean()\n",
        "RMSE = math.sqrt(MSE)\n",
        "RMSE"
      ],
      "execution_count": 28,
      "outputs": [
        {
          "output_type": "execute_result",
          "data": {
            "text/plain": [
              "0.18025214879003215"
            ]
          },
          "metadata": {
            "tags": []
          },
          "execution_count": 28
        }
      ]
    },
    {
      "cell_type": "code",
      "metadata": {
        "colab": {
          "base_uri": "https://localhost:8080/"
        },
        "id": "sy0AHtp-xQ9v",
        "outputId": "185118a6-27cd-4d7a-9fae-a9fbee356347"
      },
      "source": [
        "%%time\n",
        "rfr = RandomForestRegressor()\n",
        "rfr.fit(train_x, train_y)\n",
        "print(rfr.score(train_x, train_y))"
      ],
      "execution_count": 29,
      "outputs": [
        {
          "output_type": "stream",
          "text": [
            "0.9757138515969739\n",
            "CPU times: user 583 ms, sys: 672 µs, total: 584 ms\n",
            "Wall time: 586 ms\n"
          ],
          "name": "stdout"
        }
      ]
    },
    {
      "cell_type": "code",
      "metadata": {
        "colab": {
          "base_uri": "https://localhost:8080/"
        },
        "id": "6obYEb2axyDF",
        "outputId": "7223d7f6-52f2-4a72-e68f-1d9aece17601"
      },
      "source": [
        "y_pred = reg.predict(X_test)\n",
        "y_pred"
      ],
      "execution_count": 23,
      "outputs": [
        {
          "output_type": "execute_result",
          "data": {
            "text/plain": [
              "array([11.67597029, 11.93899251, 12.03632247, ..., 11.96018914,\n",
              "       11.83614386, 12.33145828])"
            ]
          },
          "metadata": {
            "tags": []
          },
          "execution_count": 23
        }
      ]
    },
    {
      "cell_type": "code",
      "metadata": {
        "colab": {
          "base_uri": "https://localhost:8080/"
        },
        "id": "EDNMNhjjxaxi",
        "outputId": "60696c5e-ee1b-49d6-eca4-298a6a74740c"
      },
      "source": [
        "y_hat = rfr.predict(test_x)\n",
        "MSE = np.square(np.subtract(test_y,y_hat)).mean()\n",
        "RMSE = math.sqrt(MSE)\n",
        "RMSE"
      ],
      "execution_count": 30,
      "outputs": [
        {
          "output_type": "execute_result",
          "data": {
            "text/plain": [
              "0.17041767310803438"
            ]
          },
          "metadata": {
            "tags": []
          },
          "execution_count": 30
        }
      ]
    },
    {
      "cell_type": "markdown",
      "metadata": {
        "id": "cQ5jDJRKsEo_"
      },
      "source": [
        "# Submission"
      ]
    },
    {
      "cell_type": "code",
      "metadata": {
        "colab": {
          "base_uri": "https://localhost:8080/",
          "height": 204
        },
        "id": "-NYiiUO8N9Df",
        "outputId": "706fb35f-fc52-4882-ca58-ff997a9b5bbc"
      },
      "source": [
        "Y_hat = rfr.predict(X_test)\n",
        "sub = pd.DataFrame()\n",
        "sub['Id'] = test['Id']\n",
        "sub['SalePrice'] = np.exp(Y_hat)\n",
        "sub.head()"
      ],
      "execution_count": 24,
      "outputs": [
        {
          "output_type": "execute_result",
          "data": {
            "text/html": [
              "<div>\n",
              "<style scoped>\n",
              "    .dataframe tbody tr th:only-of-type {\n",
              "        vertical-align: middle;\n",
              "    }\n",
              "\n",
              "    .dataframe tbody tr th {\n",
              "        vertical-align: top;\n",
              "    }\n",
              "\n",
              "    .dataframe thead th {\n",
              "        text-align: right;\n",
              "    }\n",
              "</style>\n",
              "<table border=\"1\" class=\"dataframe\">\n",
              "  <thead>\n",
              "    <tr style=\"text-align: right;\">\n",
              "      <th></th>\n",
              "      <th>Id</th>\n",
              "      <th>SalePrice</th>\n",
              "    </tr>\n",
              "  </thead>\n",
              "  <tbody>\n",
              "    <tr>\n",
              "      <th>0</th>\n",
              "      <td>1461</td>\n",
              "      <td>113226.053042</td>\n",
              "    </tr>\n",
              "    <tr>\n",
              "      <th>1</th>\n",
              "      <td>1462</td>\n",
              "      <td>132189.744236</td>\n",
              "    </tr>\n",
              "    <tr>\n",
              "      <th>2</th>\n",
              "      <td>1463</td>\n",
              "      <td>159655.893251</td>\n",
              "    </tr>\n",
              "    <tr>\n",
              "      <th>3</th>\n",
              "      <td>1464</td>\n",
              "      <td>179517.132181</td>\n",
              "    </tr>\n",
              "    <tr>\n",
              "      <th>4</th>\n",
              "      <td>1465</td>\n",
              "      <td>216362.505456</td>\n",
              "    </tr>\n",
              "  </tbody>\n",
              "</table>\n",
              "</div>"
            ],
            "text/plain": [
              "     Id      SalePrice\n",
              "0  1461  113226.053042\n",
              "1  1462  132189.744236\n",
              "2  1463  159655.893251\n",
              "3  1464  179517.132181\n",
              "4  1465  216362.505456"
            ]
          },
          "metadata": {
            "tags": []
          },
          "execution_count": 24
        }
      ]
    },
    {
      "cell_type": "code",
      "metadata": {
        "id": "tH4QT5CjK7dr"
      },
      "source": [
        "sub.to_csv('/content/drive/My Drive/Colab Notebooks/data/house_price_submission_rfr.csv')"
      ],
      "execution_count": null,
      "outputs": []
    }
  ]
}